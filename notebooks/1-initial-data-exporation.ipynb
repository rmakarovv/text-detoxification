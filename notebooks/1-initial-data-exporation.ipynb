{
  "cells": [
    {
      "cell_type": "markdown",
      "metadata": {
        "id": "p6cHhWMIWF6a"
      },
      "source": [
        "#Downloading data"
      ]
    },
    {
      "cell_type": "code",
      "execution_count": 2,
      "metadata": {
        "colab": {
          "base_uri": "https://localhost:8080/"
        },
        "id": "M3Uof9hWXAg7",
        "outputId": "7921d0ee-0af7-44dd-8e66-99a2dec914b1"
      },
      "outputs": [
        {
          "name": "stdout",
          "output_type": "stream",
          "text": [
            "Downloading...\n",
            "From: https://drive.google.com/uc?id=1478QVyS0DrBnHMRoWoqtSl-F0kDQrhsg\n",
            "To: /content/filtered_paranmt.zip\n",
            "100% 44.4M/44.4M [00:01<00:00, 23.6MB/s]\n"
          ]
        }
      ],
      "source": [
        "!gdown 1478QVyS0DrBnHMRoWoqtSl-F0kDQrhsg"
      ]
    },
    {
      "cell_type": "code",
      "execution_count": 3,
      "metadata": {
        "id": "8EeTd2JnDtKm"
      },
      "outputs": [],
      "source": [
        "%%capture\n",
        "!unzip filtered_paranmt.zip"
      ]
    },
    {
      "cell_type": "code",
      "execution_count": 4,
      "metadata": {
        "colab": {
          "base_uri": "https://localhost:8080/"
        },
        "id": "MTQCfJUjUvMd",
        "outputId": "df3e89ab-7f3c-4f3f-c181-29eebf09e589"
      },
      "outputs": [
        {
          "name": "stdout",
          "output_type": "stream",
          "text": [
            "--2023-10-23 16:22:40--  https://huggingface.co/datasets/s-nlp/paradetox/resolve/main/train.tsv\n",
            "Resolving huggingface.co (huggingface.co)... 13.35.166.50, 13.35.166.114, 13.35.166.36, ...\n",
            "Connecting to huggingface.co (huggingface.co)|13.35.166.50|:443... connected.\n",
            "HTTP request sent, awaiting response... 200 OK\n",
            "Length: 2039815 (1.9M) [text/plain]\n",
            "Saving to: ‘train.tsv’\n",
            "\n",
            "train.tsv           100%[===================>]   1.95M  2.10MB/s    in 0.9s    \n",
            "\n",
            "2023-10-23 16:22:42 (2.10 MB/s) - ‘train.tsv’ saved [2039815/2039815]\n",
            "\n"
          ]
        }
      ],
      "source": [
        "!wget https://huggingface.co/datasets/s-nlp/paradetox/resolve/main/train.tsv"
      ]
    },
    {
      "cell_type": "markdown",
      "metadata": {
        "id": "nnN2jVo2WI4b"
      },
      "source": [
        "#Main Dataset exploration"
      ]
    },
    {
      "cell_type": "code",
      "execution_count": 6,
      "metadata": {
        "id": "6CP00HYoD0fQ"
      },
      "outputs": [],
      "source": [
        "import pandas as pd\n",
        "import numpy as np\n",
        "import matplotlib.pyplot as plt"
      ]
    },
    {
      "cell_type": "code",
      "execution_count": 7,
      "metadata": {
        "id": "cgyGEw_2D8fa"
      },
      "outputs": [],
      "source": [
        "filtered = pd.read_table('filtered.tsv')\n",
        "filtered = filtered.drop([filtered.columns[i] for i in [0]], axis=1)"
      ]
    },
    {
      "cell_type": "code",
      "execution_count": 8,
      "metadata": {
        "colab": {
          "base_uri": "https://localhost:8080/",
          "height": 206
        },
        "id": "58mih7QmEAuA",
        "outputId": "13f561ef-6133-41ff-93f1-6c9ff67f2790"
      },
      "outputs": [
        {
          "data": {
            "text/html": [
              "\n",
              "  <div id=\"df-b67c0036-c0b5-4f5c-a9ac-4da28e5ff4dd\" class=\"colab-df-container\">\n",
              "    <div>\n",
              "<style scoped>\n",
              "    .dataframe tbody tr th:only-of-type {\n",
              "        vertical-align: middle;\n",
              "    }\n",
              "\n",
              "    .dataframe tbody tr th {\n",
              "        vertical-align: top;\n",
              "    }\n",
              "\n",
              "    .dataframe thead th {\n",
              "        text-align: right;\n",
              "    }\n",
              "</style>\n",
              "<table border=\"1\" class=\"dataframe\">\n",
              "  <thead>\n",
              "    <tr style=\"text-align: right;\">\n",
              "      <th></th>\n",
              "      <th>reference</th>\n",
              "      <th>translation</th>\n",
              "      <th>similarity</th>\n",
              "      <th>lenght_diff</th>\n",
              "      <th>ref_tox</th>\n",
              "      <th>trn_tox</th>\n",
              "    </tr>\n",
              "  </thead>\n",
              "  <tbody>\n",
              "    <tr>\n",
              "      <th>0</th>\n",
              "      <td>If Alkar is flooding her with psychic waste, t...</td>\n",
              "      <td>if Alkar floods her with her mental waste, it ...</td>\n",
              "      <td>0.785171</td>\n",
              "      <td>0.010309</td>\n",
              "      <td>0.014195</td>\n",
              "      <td>0.981983</td>\n",
              "    </tr>\n",
              "    <tr>\n",
              "      <th>1</th>\n",
              "      <td>Now you're getting nasty.</td>\n",
              "      <td>you're becoming disgusting.</td>\n",
              "      <td>0.749687</td>\n",
              "      <td>0.071429</td>\n",
              "      <td>0.065473</td>\n",
              "      <td>0.999039</td>\n",
              "    </tr>\n",
              "    <tr>\n",
              "      <th>2</th>\n",
              "      <td>Well, we could spare your life, for one.</td>\n",
              "      <td>well, we can spare your life.</td>\n",
              "      <td>0.919051</td>\n",
              "      <td>0.268293</td>\n",
              "      <td>0.213313</td>\n",
              "      <td>0.985068</td>\n",
              "    </tr>\n",
              "    <tr>\n",
              "      <th>3</th>\n",
              "      <td>Ah! Monkey, you've got to snap out of it.</td>\n",
              "      <td>monkey, you have to wake up.</td>\n",
              "      <td>0.664333</td>\n",
              "      <td>0.309524</td>\n",
              "      <td>0.053362</td>\n",
              "      <td>0.994215</td>\n",
              "    </tr>\n",
              "    <tr>\n",
              "      <th>4</th>\n",
              "      <td>I've got orders to put her down.</td>\n",
              "      <td>I have orders to kill her.</td>\n",
              "      <td>0.726639</td>\n",
              "      <td>0.181818</td>\n",
              "      <td>0.009402</td>\n",
              "      <td>0.999348</td>\n",
              "    </tr>\n",
              "  </tbody>\n",
              "</table>\n",
              "</div>\n",
              "    <div class=\"colab-df-buttons\">\n",
              "\n",
              "  <div class=\"colab-df-container\">\n",
              "    <button class=\"colab-df-convert\" onclick=\"convertToInteractive('df-b67c0036-c0b5-4f5c-a9ac-4da28e5ff4dd')\"\n",
              "            title=\"Convert this dataframe to an interactive table.\"\n",
              "            style=\"display:none;\">\n",
              "\n",
              "  <svg xmlns=\"http://www.w3.org/2000/svg\" height=\"24px\" viewBox=\"0 -960 960 960\">\n",
              "    <path d=\"M120-120v-720h720v720H120Zm60-500h600v-160H180v160Zm220 220h160v-160H400v160Zm0 220h160v-160H400v160ZM180-400h160v-160H180v160Zm440 0h160v-160H620v160ZM180-180h160v-160H180v160Zm440 0h160v-160H620v160Z\"/>\n",
              "  </svg>\n",
              "    </button>\n",
              "\n",
              "  <style>\n",
              "    .colab-df-container {\n",
              "      display:flex;\n",
              "      gap: 12px;\n",
              "    }\n",
              "\n",
              "    .colab-df-convert {\n",
              "      background-color: #E8F0FE;\n",
              "      border: none;\n",
              "      border-radius: 50%;\n",
              "      cursor: pointer;\n",
              "      display: none;\n",
              "      fill: #1967D2;\n",
              "      height: 32px;\n",
              "      padding: 0 0 0 0;\n",
              "      width: 32px;\n",
              "    }\n",
              "\n",
              "    .colab-df-convert:hover {\n",
              "      background-color: #E2EBFA;\n",
              "      box-shadow: 0px 1px 2px rgba(60, 64, 67, 0.3), 0px 1px 3px 1px rgba(60, 64, 67, 0.15);\n",
              "      fill: #174EA6;\n",
              "    }\n",
              "\n",
              "    .colab-df-buttons div {\n",
              "      margin-bottom: 4px;\n",
              "    }\n",
              "\n",
              "    [theme=dark] .colab-df-convert {\n",
              "      background-color: #3B4455;\n",
              "      fill: #D2E3FC;\n",
              "    }\n",
              "\n",
              "    [theme=dark] .colab-df-convert:hover {\n",
              "      background-color: #434B5C;\n",
              "      box-shadow: 0px 1px 3px 1px rgba(0, 0, 0, 0.15);\n",
              "      filter: drop-shadow(0px 1px 2px rgba(0, 0, 0, 0.3));\n",
              "      fill: #FFFFFF;\n",
              "    }\n",
              "  </style>\n",
              "\n",
              "    <script>\n",
              "      const buttonEl =\n",
              "        document.querySelector('#df-b67c0036-c0b5-4f5c-a9ac-4da28e5ff4dd button.colab-df-convert');\n",
              "      buttonEl.style.display =\n",
              "        google.colab.kernel.accessAllowed ? 'block' : 'none';\n",
              "\n",
              "      async function convertToInteractive(key) {\n",
              "        const element = document.querySelector('#df-b67c0036-c0b5-4f5c-a9ac-4da28e5ff4dd');\n",
              "        const dataTable =\n",
              "          await google.colab.kernel.invokeFunction('convertToInteractive',\n",
              "                                                    [key], {});\n",
              "        if (!dataTable) return;\n",
              "\n",
              "        const docLinkHtml = 'Like what you see? Visit the ' +\n",
              "          '<a target=\"_blank\" href=https://colab.research.google.com/notebooks/data_table.ipynb>data table notebook</a>'\n",
              "          + ' to learn more about interactive tables.';\n",
              "        element.innerHTML = '';\n",
              "        dataTable['output_type'] = 'display_data';\n",
              "        await google.colab.output.renderOutput(dataTable, element);\n",
              "        const docLink = document.createElement('div');\n",
              "        docLink.innerHTML = docLinkHtml;\n",
              "        element.appendChild(docLink);\n",
              "      }\n",
              "    </script>\n",
              "  </div>\n",
              "\n",
              "\n",
              "<div id=\"df-be27d926-806a-443c-b7f2-476f12cd69f7\">\n",
              "  <button class=\"colab-df-quickchart\" onclick=\"quickchart('df-be27d926-806a-443c-b7f2-476f12cd69f7')\"\n",
              "            title=\"Suggest charts.\"\n",
              "            style=\"display:none;\">\n",
              "\n",
              "<svg xmlns=\"http://www.w3.org/2000/svg\" height=\"24px\"viewBox=\"0 0 24 24\"\n",
              "     width=\"24px\">\n",
              "    <g>\n",
              "        <path d=\"M19 3H5c-1.1 0-2 .9-2 2v14c0 1.1.9 2 2 2h14c1.1 0 2-.9 2-2V5c0-1.1-.9-2-2-2zM9 17H7v-7h2v7zm4 0h-2V7h2v10zm4 0h-2v-4h2v4z\"/>\n",
              "    </g>\n",
              "</svg>\n",
              "  </button>\n",
              "\n",
              "<style>\n",
              "  .colab-df-quickchart {\n",
              "      --bg-color: #E8F0FE;\n",
              "      --fill-color: #1967D2;\n",
              "      --hover-bg-color: #E2EBFA;\n",
              "      --hover-fill-color: #174EA6;\n",
              "      --disabled-fill-color: #AAA;\n",
              "      --disabled-bg-color: #DDD;\n",
              "  }\n",
              "\n",
              "  [theme=dark] .colab-df-quickchart {\n",
              "      --bg-color: #3B4455;\n",
              "      --fill-color: #D2E3FC;\n",
              "      --hover-bg-color: #434B5C;\n",
              "      --hover-fill-color: #FFFFFF;\n",
              "      --disabled-bg-color: #3B4455;\n",
              "      --disabled-fill-color: #666;\n",
              "  }\n",
              "\n",
              "  .colab-df-quickchart {\n",
              "    background-color: var(--bg-color);\n",
              "    border: none;\n",
              "    border-radius: 50%;\n",
              "    cursor: pointer;\n",
              "    display: none;\n",
              "    fill: var(--fill-color);\n",
              "    height: 32px;\n",
              "    padding: 0;\n",
              "    width: 32px;\n",
              "  }\n",
              "\n",
              "  .colab-df-quickchart:hover {\n",
              "    background-color: var(--hover-bg-color);\n",
              "    box-shadow: 0 1px 2px rgba(60, 64, 67, 0.3), 0 1px 3px 1px rgba(60, 64, 67, 0.15);\n",
              "    fill: var(--button-hover-fill-color);\n",
              "  }\n",
              "\n",
              "  .colab-df-quickchart-complete:disabled,\n",
              "  .colab-df-quickchart-complete:disabled:hover {\n",
              "    background-color: var(--disabled-bg-color);\n",
              "    fill: var(--disabled-fill-color);\n",
              "    box-shadow: none;\n",
              "  }\n",
              "\n",
              "  .colab-df-spinner {\n",
              "    border: 2px solid var(--fill-color);\n",
              "    border-color: transparent;\n",
              "    border-bottom-color: var(--fill-color);\n",
              "    animation:\n",
              "      spin 1s steps(1) infinite;\n",
              "  }\n",
              "\n",
              "  @keyframes spin {\n",
              "    0% {\n",
              "      border-color: transparent;\n",
              "      border-bottom-color: var(--fill-color);\n",
              "      border-left-color: var(--fill-color);\n",
              "    }\n",
              "    20% {\n",
              "      border-color: transparent;\n",
              "      border-left-color: var(--fill-color);\n",
              "      border-top-color: var(--fill-color);\n",
              "    }\n",
              "    30% {\n",
              "      border-color: transparent;\n",
              "      border-left-color: var(--fill-color);\n",
              "      border-top-color: var(--fill-color);\n",
              "      border-right-color: var(--fill-color);\n",
              "    }\n",
              "    40% {\n",
              "      border-color: transparent;\n",
              "      border-right-color: var(--fill-color);\n",
              "      border-top-color: var(--fill-color);\n",
              "    }\n",
              "    60% {\n",
              "      border-color: transparent;\n",
              "      border-right-color: var(--fill-color);\n",
              "    }\n",
              "    80% {\n",
              "      border-color: transparent;\n",
              "      border-right-color: var(--fill-color);\n",
              "      border-bottom-color: var(--fill-color);\n",
              "    }\n",
              "    90% {\n",
              "      border-color: transparent;\n",
              "      border-bottom-color: var(--fill-color);\n",
              "    }\n",
              "  }\n",
              "</style>\n",
              "\n",
              "  <script>\n",
              "    async function quickchart(key) {\n",
              "      const quickchartButtonEl =\n",
              "        document.querySelector('#' + key + ' button');\n",
              "      quickchartButtonEl.disabled = true;  // To prevent multiple clicks.\n",
              "      quickchartButtonEl.classList.add('colab-df-spinner');\n",
              "      try {\n",
              "        const charts = await google.colab.kernel.invokeFunction(\n",
              "            'suggestCharts', [key], {});\n",
              "      } catch (error) {\n",
              "        console.error('Error during call to suggestCharts:', error);\n",
              "      }\n",
              "      quickchartButtonEl.classList.remove('colab-df-spinner');\n",
              "      quickchartButtonEl.classList.add('colab-df-quickchart-complete');\n",
              "    }\n",
              "    (() => {\n",
              "      let quickchartButtonEl =\n",
              "        document.querySelector('#df-be27d926-806a-443c-b7f2-476f12cd69f7 button');\n",
              "      quickchartButtonEl.style.display =\n",
              "        google.colab.kernel.accessAllowed ? 'block' : 'none';\n",
              "    })();\n",
              "  </script>\n",
              "</div>\n",
              "    </div>\n",
              "  </div>\n"
            ],
            "text/plain": [
              "                                           reference  \\\n",
              "0  If Alkar is flooding her with psychic waste, t...   \n",
              "1                          Now you're getting nasty.   \n",
              "2           Well, we could spare your life, for one.   \n",
              "3          Ah! Monkey, you've got to snap out of it.   \n",
              "4                   I've got orders to put her down.   \n",
              "\n",
              "                                         translation  similarity  lenght_diff  \\\n",
              "0  if Alkar floods her with her mental waste, it ...    0.785171     0.010309   \n",
              "1                        you're becoming disgusting.    0.749687     0.071429   \n",
              "2                      well, we can spare your life.    0.919051     0.268293   \n",
              "3                       monkey, you have to wake up.    0.664333     0.309524   \n",
              "4                         I have orders to kill her.    0.726639     0.181818   \n",
              "\n",
              "    ref_tox   trn_tox  \n",
              "0  0.014195  0.981983  \n",
              "1  0.065473  0.999039  \n",
              "2  0.213313  0.985068  \n",
              "3  0.053362  0.994215  \n",
              "4  0.009402  0.999348  "
            ]
          },
          "execution_count": 8,
          "metadata": {},
          "output_type": "execute_result"
        }
      ],
      "source": [
        "filtered.head()"
      ]
    },
    {
      "cell_type": "markdown",
      "metadata": {
        "id": "KyIuwZPjWMAm"
      },
      "source": [
        "##Plotting some graphs"
      ]
    },
    {
      "cell_type": "code",
      "execution_count": 9,
      "metadata": {
        "colab": {
          "base_uri": "https://localhost:8080/",
          "height": 472
        },
        "id": "GKfjMQUwE31p",
        "outputId": "58ef8600-7baa-40e0-bddb-b42faf0b0377"
      },
      "outputs": [
        {
          "data": {
            "image/png": "[encoded data removed]",
            "text/plain": [
              "<Figure size 640x480 with 1 Axes>"
            ]
          },
          "metadata": {},
          "output_type": "display_data"
        }
      ],
      "source": [
        "similarities = filtered['similarity'].values.round(2)\n",
        "unique, counts = np.unique(similarities, return_counts=True)\n",
        "\n",
        "plt.ylabel('Counts')\n",
        "plt.xlabel('ref and tr similarity')\n",
        "plt.title('Number of distinct \"Similarity\" measures')\n",
        "plt.scatter(unique, counts)\n",
        "plt.show()"
      ]
    },
    {
      "cell_type": "code",
      "execution_count": 10,
      "metadata": {
        "colab": {
          "base_uri": "https://localhost:8080/",
          "height": 472
        },
        "id": "48WsLs68GlI8",
        "outputId": "528f7950-a038-4e33-e9e4-fb7f7ff42b38"
      },
      "outputs": [
        {
          "data": {
            "image/png": "[encoded data removed]",
            "text/plain": [
              "<Figure size 640x480 with 1 Axes>"
            ]
          },
          "metadata": {},
          "output_type": "display_data"
        }
      ],
      "source": [
        "lengths = filtered['lenght_diff'].values.round(2)\n",
        "unique, counts = np.unique(lengths, return_counts=True)\n",
        "\n",
        "plt.ylabel('Counts')\n",
        "plt.xlabel('ref and tr length_diff')\n",
        "plt.title('Number of distinct \"length_diff\" measures')\n",
        "plt.scatter(unique, counts)\n",
        "plt.show()"
      ]
    },
    {
      "cell_type": "code",
      "execution_count": 11,
      "metadata": {
        "colab": {
          "base_uri": "https://localhost:8080/",
          "height": 490
        },
        "id": "9pJdyq6qUnMJ",
        "outputId": "96aecca1-3d57-4a57-d4be-d2b6d350b6b8"
      },
      "outputs": [
        {
          "name": "stdout",
          "output_type": "stream",
          "text": [
            "True\n"
          ]
        },
        {
          "data": {
            "image/png": "[encoded data removed]",
            "text/plain": [
              "<Figure size 640x480 with 1 Axes>"
            ]
          },
          "metadata": {},
          "output_type": "display_data"
        }
      ],
      "source": [
        "ref_tox = (filtered['ref_tox'].values.round(2) * 100).astype(int)\n",
        "trn_tox = (filtered['trn_tox'].values.round(2) * 100).astype(int)\n",
        "\n",
        "unique, counts = np.unique(ref_tox, return_counts=True)\n",
        "unique2, counts2 = np.unique(trn_tox, return_counts=True)\n",
        "\n",
        "print(unique.shape == counts.shape)\n",
        "plt.ylabel('Counts')\n",
        "plt.xlabel('ref and tr toxicity')\n",
        "plt.title('Toxicity values (*100)')\n",
        "plt.plot(unique.flatten(), counts.flatten(), 'o')\n",
        "plt.plot(unique2, counts2, '^')\n",
        "plt.show()"
      ]
    },
    {
      "cell_type": "markdown",
      "metadata": {
        "id": "6LfzBQ-tWqVY"
      },
      "source": [
        "##Checking how many samples I could filter out by conditioning and what lengths do sentences have"
      ]
    },
    {
      "cell_type": "code",
      "execution_count": 12,
      "metadata": {
        "colab": {
          "base_uri": "https://localhost:8080/"
        },
        "id": "UvcEesMobZHF",
        "outputId": "f598848e-13af-4eb1-f747-c0592f1db450"
      },
      "outputs": [
        {
          "data": {
            "text/plain": [
              "170657"
            ]
          },
          "execution_count": 12,
          "metadata": {},
          "output_type": "execute_result"
        }
      ],
      "source": [
        "len(filtered[(filtered['ref_tox'] > 0.95) & (filtered['trn_tox'] < 0.01)])"
      ]
    },
    {
      "cell_type": "code",
      "execution_count": 15,
      "metadata": {
        "colab": {
          "base_uri": "https://localhost:8080/",
          "height": 557
        },
        "id": "Zg75D_BYySNQ",
        "outputId": "675ce919-0633-47b7-d882-d3c3f8284fa5"
      },
      "outputs": [
        {
          "name": "stderr",
          "output_type": "stream",
          "text": [
            "<ipython-input-15-c261d1937174>:2: SettingWithCopyWarning: \n",
            "A value is trying to be set on a copy of a slice from a DataFrame.\n",
            "Try using .loc[row_indexer,col_indexer] = value instead\n",
            "\n",
            "See the caveats in the documentation: https://pandas.pydata.org/pandas-docs/stable/user_guide/indexing.html#returning-a-view-versus-a-copy\n",
            "  filtered2['length'] = [len(x.split()) for x in filtered2['reference'].values]\n"
          ]
        },
        {
          "data": {
            "text/plain": [
              "<Axes: >"
            ]
          },
          "execution_count": 15,
          "metadata": {},
          "output_type": "execute_result"
        },
        {
          "data": {
            "image/png": "[encoded data removed]",
            "text/plain": [
              "<Figure size 640x480 with 1 Axes>"
            ]
          },
          "metadata": {},
          "output_type": "display_data"
        }
      ],
      "source": [
        "filtered2 = filtered[(filtered['ref_tox'] > 0.97) & (filtered['trn_tox'] < 0.01)]\n",
        "filtered2['length'] = [len(x.split()) for x in filtered2['reference'].values]\n",
        "filtered2['length'].hist(bins=[i*10 for i in range(1, 6)])"
      ]
    },
    {
      "cell_type": "code",
      "execution_count": 18,
      "metadata": {
        "colab": {
          "base_uri": "https://localhost:8080/"
        },
        "id": "4tKnCwMMdl39",
        "outputId": "d0a27d59-dbd7-423d-c071-fdf793dc4b30"
      },
      "outputs": [
        {
          "name": "stdout",
          "output_type": "stream",
          "text": [
            "['his father would have answered with his thunder voice from this blunt machine.'\n",
            " 'you have to get those guys back there.' 'Salina could be with the cop.'\n",
            " \"don't let them fool you in radiology.\"\n",
            " 'my friend here took a marijuana...']\n"
          ]
        }
      ],
      "source": [
        "print(filtered.sort_values(by='ref_tox', ascending=False)[:5]['translation'].values)"
      ]
    },
    {
      "cell_type": "code",
      "execution_count": 19,
      "metadata": {
        "colab": {
          "base_uri": "https://localhost:8080/"
        },
        "id": "AEfqvuD-bMOp",
        "outputId": "b56257ff-6896-4841-9e95-50ef78bf06b5"
      },
      "outputs": [
        {
          "name": "stdout",
          "output_type": "stream",
          "text": [
            "['His father would have used a booming voice to wrench a reply from this stupid machine.'\n",
            " 'You have to send those idiots back in.'\n",
            " 'Salina could be with that stupid cop.'\n",
            " \"And don't let those idiots in radiology hold you up.\"\n",
            " 'My idiot friend here brought marijuana... - on the plane.']\n"
          ]
        }
      ],
      "source": [
        "print(filtered.sort_values(by='ref_tox', ascending=False)[:5]['reference'].values)"
      ]
    },
    {
      "cell_type": "markdown",
      "metadata": {
        "id": "-78SMDR0LZ7r"
      },
      "source": [
        "Translation quality sometimes seems weird for me in this dataset, so I will try to find an additional one"
      ]
    },
    {
      "cell_type": "code",
      "execution_count": 20,
      "metadata": {
        "colab": {
          "base_uri": "https://localhost:8080/"
        },
        "id": "odyHCWpEEkvl",
        "outputId": "25692c2a-8250-44d4-c4fc-7d73781d4a7b"
      },
      "outputs": [
        {
          "name": "stdout",
          "output_type": "stream",
          "text": [
            "0.346, ': ', I'm not the one who bet the Taj on a bloody horse!\n",
            "0.998, ': ', it's not me who put the Taj in the fucking race!\n",
            "\n",
            "0.005, ': ', Unless... it gets to the old woman in time, in which case she sucks out the poison, turning her into the Grand Empress:\n",
            "0.982, ': ', if, of course, he doesn't get the staffer in time, in which case she is going to suck the poison out of him, and he will turn himself into a Vicious Empress:\n",
            "\n",
            "0.005, ': ', That's probably what got him killed.\n",
            "0.959, ': ', they probably killed him for that.\n",
            "\n",
            "0.021, ': ', Schmuck, it's all for us.\n",
            "0.998, ': ', fool, it's all ours.\n",
            "\n",
            "0.989, ': ', I think I'd make a dead sexy zombie.\n",
            "0.407, ': ', I think I'd be a deadly zombie.\n",
            "\n",
            "0.020, ': ', 'Voldemort tried to kill you when you were a child because of a prophecy made shortly before your birth.\n",
            "0.938, ': ', \"Voldemort once tried to kill you for a prophecy that was uttered shortly before your birth.\n",
            "\n",
            "0.999, ': ', You give me a quality car,bet your ass,I could still close 'em.\n",
            "0.001, ': ', give me a good car and you bet your boots I'll sell it.\n",
            "\n",
            "0.999, ': ', \"Gregor, you old liar!\n",
            "0.006, ': ', 'Gregor, you old Irishman!\n",
            "\n",
            "0.005, ': ', He's trying to bushwhack us.\n",
            "0.998, ': ', he's trying to fuck us up!\n",
            "\n",
            "0.082, ': ', Where the devil is it?\n",
            "0.967, ': ', who the hell is he?\n",
            "\n"
          ]
        }
      ],
      "source": [
        "for i in range(10):\n",
        "    idx = np.random.randint(0, len(filtered) - 1)\n",
        "    print(f\"{filtered.iloc[idx]['ref_tox']:.3f}, ': ', {filtered.iloc[idx, 0]}\")\n",
        "    print(f\"{filtered.iloc[idx]['trn_tox']:.3f}, ': ', {filtered.iloc[idx, 1]}\\n\")"
      ]
    },
    {
      "cell_type": "markdown",
      "metadata": {
        "id": "_mDMpP1LJbUx"
      },
      "source": [
        "#New dataset exploration"
      ]
    },
    {
      "cell_type": "code",
      "execution_count": 21,
      "metadata": {
        "colab": {
          "base_uri": "https://localhost:8080/"
        },
        "id": "EHWFgX4VJdG8",
        "outputId": "e16e5fdd-5a59-4c05-9f4d-8fcb3ffefa58"
      },
      "outputs": [
        {
          "name": "stdout",
          "output_type": "stream",
          "text": [
            "--2023-10-23 16:28:02--  https://huggingface.co/datasets/s-nlp/paradetox/resolve/main/train.tsv\n",
            "Resolving huggingface.co (huggingface.co)... 13.35.166.36, 13.35.166.50, 13.35.166.114, ...\n",
            "Connecting to huggingface.co (huggingface.co)|13.35.166.36|:443... connected.\n",
            "HTTP request sent, awaiting response... 200 OK\n",
            "Length: 2039815 (1.9M) [text/plain]\n",
            "Saving to: ‘train.tsv.1’\n",
            "\n",
            "train.tsv.1         100%[===================>]   1.95M  2.11MB/s    in 0.9s    \n",
            "\n",
            "2023-10-23 16:28:03 (2.11 MB/s) - ‘train.tsv.1’ saved [2039815/2039815]\n",
            "\n"
          ]
        }
      ],
      "source": [
        "!wget https://huggingface.co/datasets/s-nlp/paradetox/resolve/main/train.tsv"
      ]
    },
    {
      "cell_type": "code",
      "execution_count": 22,
      "metadata": {
        "colab": {
          "base_uri": "https://localhost:8080/",
          "height": 224
        },
        "id": "MvTN0XNGJj3Y",
        "outputId": "66ce436b-3e71-4d53-8827-cb3241d5f02a"
      },
      "outputs": [
        {
          "name": "stdout",
          "output_type": "stream",
          "text": [
            "19744\n"
          ]
        },
        {
          "data": {
            "text/html": [
              "\n",
              "  <div id=\"df-e4abf570-4be3-4fb1-b8c3-f6274d7bbec6\" class=\"colab-df-container\">\n",
              "    <div>\n",
              "<style scoped>\n",
              "    .dataframe tbody tr th:only-of-type {\n",
              "        vertical-align: middle;\n",
              "    }\n",
              "\n",
              "    .dataframe tbody tr th {\n",
              "        vertical-align: top;\n",
              "    }\n",
              "\n",
              "    .dataframe thead th {\n",
              "        text-align: right;\n",
              "    }\n",
              "</style>\n",
              "<table border=\"1\" class=\"dataframe\">\n",
              "  <thead>\n",
              "    <tr style=\"text-align: right;\">\n",
              "      <th></th>\n",
              "      <th>reference</th>\n",
              "      <th>translation</th>\n",
              "    </tr>\n",
              "  </thead>\n",
              "  <tbody>\n",
              "    <tr>\n",
              "      <th>0</th>\n",
              "      <td>he had steel balls too !</td>\n",
              "      <td>he was brave too!</td>\n",
              "    </tr>\n",
              "    <tr>\n",
              "      <th>1</th>\n",
              "      <td>dude should have been taken to api , he would ...</td>\n",
              "      <td>It would have been good if he went to api. He ...</td>\n",
              "    </tr>\n",
              "    <tr>\n",
              "      <th>2</th>\n",
              "      <td>im not gonna sell the fucking picture , i just...</td>\n",
              "      <td>I'm not gonna sell the picture, i just want to...</td>\n",
              "    </tr>\n",
              "    <tr>\n",
              "      <th>3</th>\n",
              "      <td>the garbage that is being created by cnn and o...</td>\n",
              "      <td>the news that is being created by cnn and othe...</td>\n",
              "    </tr>\n",
              "    <tr>\n",
              "      <th>4</th>\n",
              "      <td>the reason they dont exist is because neither ...</td>\n",
              "      <td>The reason they don't exist is because neither...</td>\n",
              "    </tr>\n",
              "  </tbody>\n",
              "</table>\n",
              "</div>\n",
              "    <div class=\"colab-df-buttons\">\n",
              "\n",
              "  <div class=\"colab-df-container\">\n",
              "    <button class=\"colab-df-convert\" onclick=\"convertToInteractive('df-e4abf570-4be3-4fb1-b8c3-f6274d7bbec6')\"\n",
              "            title=\"Convert this dataframe to an interactive table.\"\n",
              "            style=\"display:none;\">\n",
              "\n",
              "  <svg xmlns=\"http://www.w3.org/2000/svg\" height=\"24px\" viewBox=\"0 -960 960 960\">\n",
              "    <path d=\"M120-120v-720h720v720H120Zm60-500h600v-160H180v160Zm220 220h160v-160H400v160Zm0 220h160v-160H400v160ZM180-400h160v-160H180v160Zm440 0h160v-160H620v160ZM180-180h160v-160H180v160Zm440 0h160v-160H620v160Z\"/>\n",
              "  </svg>\n",
              "    </button>\n",
              "\n",
              "  <style>\n",
              "    .colab-df-container {\n",
              "      display:flex;\n",
              "      gap: 12px;\n",
              "    }\n",
              "\n",
              "    .colab-df-convert {\n",
              "      background-color: #E8F0FE;\n",
              "      border: none;\n",
              "      border-radius: 50%;\n",
              "      cursor: pointer;\n",
              "      display: none;\n",
              "      fill: #1967D2;\n",
              "      height: 32px;\n",
              "      padding: 0 0 0 0;\n",
              "      width: 32px;\n",
              "    }\n",
              "\n",
              "    .colab-df-convert:hover {\n",
              "      background-color: #E2EBFA;\n",
              "      box-shadow: 0px 1px 2px rgba(60, 64, 67, 0.3), 0px 1px 3px 1px rgba(60, 64, 67, 0.15);\n",
              "      fill: #174EA6;\n",
              "    }\n",
              "\n",
              "    .colab-df-buttons div {\n",
              "      margin-bottom: 4px;\n",
              "    }\n",
              "\n",
              "    [theme=dark] .colab-df-convert {\n",
              "      background-color: #3B4455;\n",
              "      fill: #D2E3FC;\n",
              "    }\n",
              "\n",
              "    [theme=dark] .colab-df-convert:hover {\n",
              "      background-color: #434B5C;\n",
              "      box-shadow: 0px 1px 3px 1px rgba(0, 0, 0, 0.15);\n",
              "      filter: drop-shadow(0px 1px 2px rgba(0, 0, 0, 0.3));\n",
              "      fill: #FFFFFF;\n",
              "    }\n",
              "  </style>\n",
              "\n",
              "    <script>\n",
              "      const buttonEl =\n",
              "        document.querySelector('#df-e4abf570-4be3-4fb1-b8c3-f6274d7bbec6 button.colab-df-convert');\n",
              "      buttonEl.style.display =\n",
              "        google.colab.kernel.accessAllowed ? 'block' : 'none';\n",
              "\n",
              "      async function convertToInteractive(key) {\n",
              "        const element = document.querySelector('#df-e4abf570-4be3-4fb1-b8c3-f6274d7bbec6');\n",
              "        const dataTable =\n",
              "          await google.colab.kernel.invokeFunction('convertToInteractive',\n",
              "                                                    [key], {});\n",
              "        if (!dataTable) return;\n",
              "\n",
              "        const docLinkHtml = 'Like what you see? Visit the ' +\n",
              "          '<a target=\"_blank\" href=https://colab.research.google.com/notebooks/data_table.ipynb>data table notebook</a>'\n",
              "          + ' to learn more about interactive tables.';\n",
              "        element.innerHTML = '';\n",
              "        dataTable['output_type'] = 'display_data';\n",
              "        await google.colab.output.renderOutput(dataTable, element);\n",
              "        const docLink = document.createElement('div');\n",
              "        docLink.innerHTML = docLinkHtml;\n",
              "        element.appendChild(docLink);\n",
              "      }\n",
              "    </script>\n",
              "  </div>\n",
              "\n",
              "\n",
              "<div id=\"df-90437cbb-fd63-40e1-b851-1c6d3ff91975\">\n",
              "  <button class=\"colab-df-quickchart\" onclick=\"quickchart('df-90437cbb-fd63-40e1-b851-1c6d3ff91975')\"\n",
              "            title=\"Suggest charts.\"\n",
              "            style=\"display:none;\">\n",
              "\n",
              "<svg xmlns=\"http://www.w3.org/2000/svg\" height=\"24px\"viewBox=\"0 0 24 24\"\n",
              "     width=\"24px\">\n",
              "    <g>\n",
              "        <path d=\"M19 3H5c-1.1 0-2 .9-2 2v14c0 1.1.9 2 2 2h14c1.1 0 2-.9 2-2V5c0-1.1-.9-2-2-2zM9 17H7v-7h2v7zm4 0h-2V7h2v10zm4 0h-2v-4h2v4z\"/>\n",
              "    </g>\n",
              "</svg>\n",
              "  </button>\n",
              "\n",
              "<style>\n",
              "  .colab-df-quickchart {\n",
              "      --bg-color: #E8F0FE;\n",
              "      --fill-color: #1967D2;\n",
              "      --hover-bg-color: #E2EBFA;\n",
              "      --hover-fill-color: #174EA6;\n",
              "      --disabled-fill-color: #AAA;\n",
              "      --disabled-bg-color: #DDD;\n",
              "  }\n",
              "\n",
              "  [theme=dark] .colab-df-quickchart {\n",
              "      --bg-color: #3B4455;\n",
              "      --fill-color: #D2E3FC;\n",
              "      --hover-bg-color: #434B5C;\n",
              "      --hover-fill-color: #FFFFFF;\n",
              "      --disabled-bg-color: #3B4455;\n",
              "      --disabled-fill-color: #666;\n",
              "  }\n",
              "\n",
              "  .colab-df-quickchart {\n",
              "    background-color: var(--bg-color);\n",
              "    border: none;\n",
              "    border-radius: 50%;\n",
              "    cursor: pointer;\n",
              "    display: none;\n",
              "    fill: var(--fill-color);\n",
              "    height: 32px;\n",
              "    padding: 0;\n",
              "    width: 32px;\n",
              "  }\n",
              "\n",
              "  .colab-df-quickchart:hover {\n",
              "    background-color: var(--hover-bg-color);\n",
              "    box-shadow: 0 1px 2px rgba(60, 64, 67, 0.3), 0 1px 3px 1px rgba(60, 64, 67, 0.15);\n",
              "    fill: var(--button-hover-fill-color);\n",
              "  }\n",
              "\n",
              "  .colab-df-quickchart-complete:disabled,\n",
              "  .colab-df-quickchart-complete:disabled:hover {\n",
              "    background-color: var(--disabled-bg-color);\n",
              "    fill: var(--disabled-fill-color);\n",
              "    box-shadow: none;\n",
              "  }\n",
              "\n",
              "  .colab-df-spinner {\n",
              "    border: 2px solid var(--fill-color);\n",
              "    border-color: transparent;\n",
              "    border-bottom-color: var(--fill-color);\n",
              "    animation:\n",
              "      spin 1s steps(1) infinite;\n",
              "  }\n",
              "\n",
              "  @keyframes spin {\n",
              "    0% {\n",
              "      border-color: transparent;\n",
              "      border-bottom-color: var(--fill-color);\n",
              "      border-left-color: var(--fill-color);\n",
              "    }\n",
              "    20% {\n",
              "      border-color: transparent;\n",
              "      border-left-color: var(--fill-color);\n",
              "      border-top-color: var(--fill-color);\n",
              "    }\n",
              "    30% {\n",
              "      border-color: transparent;\n",
              "      border-left-color: var(--fill-color);\n",
              "      border-top-color: var(--fill-color);\n",
              "      border-right-color: var(--fill-color);\n",
              "    }\n",
              "    40% {\n",
              "      border-color: transparent;\n",
              "      border-right-color: var(--fill-color);\n",
              "      border-top-color: var(--fill-color);\n",
              "    }\n",
              "    60% {\n",
              "      border-color: transparent;\n",
              "      border-right-color: var(--fill-color);\n",
              "    }\n",
              "    80% {\n",
              "      border-color: transparent;\n",
              "      border-right-color: var(--fill-color);\n",
              "      border-bottom-color: var(--fill-color);\n",
              "    }\n",
              "    90% {\n",
              "      border-color: transparent;\n",
              "      border-bottom-color: var(--fill-color);\n",
              "    }\n",
              "  }\n",
              "</style>\n",
              "\n",
              "  <script>\n",
              "    async function quickchart(key) {\n",
              "      const quickchartButtonEl =\n",
              "        document.querySelector('#' + key + ' button');\n",
              "      quickchartButtonEl.disabled = true;  // To prevent multiple clicks.\n",
              "      quickchartButtonEl.classList.add('colab-df-spinner');\n",
              "      try {\n",
              "        const charts = await google.colab.kernel.invokeFunction(\n",
              "            'suggestCharts', [key], {});\n",
              "      } catch (error) {\n",
              "        console.error('Error during call to suggestCharts:', error);\n",
              "      }\n",
              "      quickchartButtonEl.classList.remove('colab-df-spinner');\n",
              "      quickchartButtonEl.classList.add('colab-df-quickchart-complete');\n",
              "    }\n",
              "    (() => {\n",
              "      let quickchartButtonEl =\n",
              "        document.querySelector('#df-90437cbb-fd63-40e1-b851-1c6d3ff91975 button');\n",
              "      quickchartButtonEl.style.display =\n",
              "        google.colab.kernel.accessAllowed ? 'block' : 'none';\n",
              "    })();\n",
              "  </script>\n",
              "</div>\n",
              "    </div>\n",
              "  </div>\n"
            ],
            "text/plain": [
              "                                           reference  \\\n",
              "0                           he had steel balls too !   \n",
              "1  dude should have been taken to api , he would ...   \n",
              "2  im not gonna sell the fucking picture , i just...   \n",
              "3  the garbage that is being created by cnn and o...   \n",
              "4  the reason they dont exist is because neither ...   \n",
              "\n",
              "                                         translation  \n",
              "0                                  he was brave too!  \n",
              "1  It would have been good if he went to api. He ...  \n",
              "2  I'm not gonna sell the picture, i just want to...  \n",
              "3  the news that is being created by cnn and othe...  \n",
              "4  The reason they don't exist is because neither...  "
            ]
          },
          "execution_count": 22,
          "metadata": {},
          "output_type": "execute_result"
        }
      ],
      "source": [
        "data = pd.read_table('train.tsv')\n",
        "data.rename(columns={\"en_toxic_comment\": \"reference\", \"en_neutral_comment\": 'translation'}, inplace=True)\n",
        "print(len(data))\n",
        "data.head()"
      ]
    },
    {
      "cell_type": "markdown",
      "metadata": {
        "id": "EHximh4NLMhx"
      },
      "source": [
        "This dataset seems to be much better in terms of translation quality, as it was comprised using crowdsourcing"
      ]
    },
    {
      "cell_type": "code",
      "execution_count": 23,
      "metadata": {
        "colab": {
          "base_uri": "https://localhost:8080/"
        },
        "id": "pAzvn3LoK_r4",
        "outputId": "8be3af88-4b2a-4ae2-f515-8dbd88a43604"
      },
      "outputs": [
        {
          "name": "stdout",
          "output_type": "stream",
          "text": [
            "and he doesn 't know what the fuck 71 chan is ?\n",
            "and he doesn 't know what 71 chan is ?\n",
            "\n",
            "this is exactly why politics is so fucked .\n",
            "This is exactly why politics is so bad\n",
            "\n",
            "cant deal with stuck on stupid .\n",
            "Can't deal a bad person.\n",
            "\n",
            "lets throw some pies at these cunts\n",
            "Lets throw some pies at them\n",
            "\n",
            "who cares loser lib troll , they are all so pathetic and incompetent and corrupt they should resign period\n",
            "Who cares, they are incapable and not suitable, they should resign period.\n",
            "\n",
            "- < 10 , and i dont know who the fuck lied to you !\n",
            "- < 10 , and i dont know who lied to you !\n",
            "\n",
            "make yourself sane for the first time , get some help for your hate and stupidity\n",
            "Make yourself sane for the first time , get some help for yourself\n",
            "\n",
            "when the fuck did the republican party cross the pacific ? ? !\n",
            "When did the republican party cross the pacific?\n",
            "\n",
            "president trump should be applauded for refusing to sign this ridiculous statement .\n",
            "President trump should be appreciated not to sign such bad statement.\n",
            "\n",
            "it 's not usually republicans taxing the shit out of alcohol and cigarettes .\n",
            "it 's not usually republicans taxing the alcohol and cigarettes .\n",
            "\n"
          ]
        }
      ],
      "source": [
        "for i in range(10):\n",
        "    idx = np.random.randint(0, len(data) - 1)\n",
        "    print(f\"{data.iloc[idx, 0]}\")\n",
        "    print(f\"{data.iloc[idx, 1]}\\n\")"
      ]
    }
  ],
  "metadata": {
    "colab": {
      "provenance": []
    },
    "kernelspec": {
      "display_name": "Python 3",
      "name": "python3"
    },
    "language_info": {
      "name": "python"
    }
  },
  "nbformat": 4,
  "nbformat_minor": 0
}
